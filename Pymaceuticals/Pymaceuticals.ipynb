{
 "cells": [
  {
   "cell_type": "markdown",
   "metadata": {},
   "source": [
    "## Observations and Insights "
   ]
  },
  {
   "cell_type": "markdown",
   "metadata": {},
   "source": []
  },
  {
   "cell_type": "code",
   "execution_count": 1,
   "metadata": {},
   "outputs": [],
   "source": [
    "#matplotlib inline"
   ]
  },
  {
   "cell_type": "code",
   "execution_count": 65,
   "metadata": {},
   "outputs": [],
   "source": [
    "## Dependencies and Setup\n",
    "import matplotlib.pyplot as plt\n",
    "import pandas as pd\n",
    "import scipy.stats as st\n",
    "import scipy.stats as linregress\n",
    "import numpy as np\n",
    "\n",
    "## Study data files\n",
    "mouse_metadata_path = \"data/Mouse_metadata.csv\"\n",
    "study_results_path = \"data/Study_results.csv\"\n",
    "\n",
    "## Read the mouse data and the study results\n",
    "mouse_metadata = pd.read_csv(mouse_metadata_path)\n",
    "study_results = pd.read_csv(study_results_path)\n"
   ]
  },
  {
   "cell_type": "code",
   "execution_count": 66,
   "metadata": {},
   "outputs": [
    {
     "output_type": "stream",
     "name": "stdout",
     "text": [
      "  Mouse ID  Timepoint  Tumor Volume (mm3)  Metastatic Sites\n0     b128          0                45.0                 0\n1     f932          0                45.0                 0\n2     g107          0                45.0                 0\n3     a457          0                45.0                 0\n4     c819          0                45.0                 0\n\n  Mouse ID Drug Regimen     Sex  Age_months  Weight (g)\n0     k403     Ramicane    Male          21          16\n1     s185    Capomulin  Female           3          17\n2     x401    Capomulin  Female          16          15\n3     m601    Capomulin    Male          22          17\n4     g791     Ramicane    Male          11          16\n"
     ]
    }
   ],
   "source": [
    "## Preview of .csv\n",
    "print(study_results.head())\n",
    "print()\n",
    "print(mouse_metadata.head())"
   ]
  },
  {
   "cell_type": "code",
   "execution_count": 67,
   "metadata": {},
   "outputs": [
    {
     "output_type": "execute_result",
     "data": {
      "text/plain": [
       "  Mouse ID Drug Regimen   Sex  Age_months  Weight (g)  Timepoint  \\\n",
       "0     k403     Ramicane  Male          21          16          0   \n",
       "1     k403     Ramicane  Male          21          16          5   \n",
       "2     k403     Ramicane  Male          21          16         10   \n",
       "3     k403     Ramicane  Male          21          16         15   \n",
       "4     k403     Ramicane  Male          21          16         20   \n",
       "5     k403     Ramicane  Male          21          16         25   \n",
       "6     k403     Ramicane  Male          21          16         30   \n",
       "7     k403     Ramicane  Male          21          16         35   \n",
       "8     k403     Ramicane  Male          21          16         40   \n",
       "9     k403     Ramicane  Male          21          16         45   \n",
       "\n",
       "   Tumor Volume (mm3)  Metastatic Sites  \n",
       "0           45.000000                 0  \n",
       "1           38.825898                 0  \n",
       "2           35.014271                 1  \n",
       "3           34.223992                 1  \n",
       "4           32.997729                 1  \n",
       "5           33.464577                 1  \n",
       "6           31.099498                 1  \n",
       "7           26.546993                 1  \n",
       "8           24.365505                 1  \n",
       "9           22.050126                 1  "
      ],
      "text/html": "<div>\n<style scoped>\n    .dataframe tbody tr th:only-of-type {\n        vertical-align: middle;\n    }\n\n    .dataframe tbody tr th {\n        vertical-align: top;\n    }\n\n    .dataframe thead th {\n        text-align: right;\n    }\n</style>\n<table border=\"1\" class=\"dataframe\">\n  <thead>\n    <tr style=\"text-align: right;\">\n      <th></th>\n      <th>Mouse ID</th>\n      <th>Drug Regimen</th>\n      <th>Sex</th>\n      <th>Age_months</th>\n      <th>Weight (g)</th>\n      <th>Timepoint</th>\n      <th>Tumor Volume (mm3)</th>\n      <th>Metastatic Sites</th>\n    </tr>\n  </thead>\n  <tbody>\n    <tr>\n      <th>0</th>\n      <td>k403</td>\n      <td>Ramicane</td>\n      <td>Male</td>\n      <td>21</td>\n      <td>16</td>\n      <td>0</td>\n      <td>45.000000</td>\n      <td>0</td>\n    </tr>\n    <tr>\n      <th>1</th>\n      <td>k403</td>\n      <td>Ramicane</td>\n      <td>Male</td>\n      <td>21</td>\n      <td>16</td>\n      <td>5</td>\n      <td>38.825898</td>\n      <td>0</td>\n    </tr>\n    <tr>\n      <th>2</th>\n      <td>k403</td>\n      <td>Ramicane</td>\n      <td>Male</td>\n      <td>21</td>\n      <td>16</td>\n      <td>10</td>\n      <td>35.014271</td>\n      <td>1</td>\n    </tr>\n    <tr>\n      <th>3</th>\n      <td>k403</td>\n      <td>Ramicane</td>\n      <td>Male</td>\n      <td>21</td>\n      <td>16</td>\n      <td>15</td>\n      <td>34.223992</td>\n      <td>1</td>\n    </tr>\n    <tr>\n      <th>4</th>\n      <td>k403</td>\n      <td>Ramicane</td>\n      <td>Male</td>\n      <td>21</td>\n      <td>16</td>\n      <td>20</td>\n      <td>32.997729</td>\n      <td>1</td>\n    </tr>\n    <tr>\n      <th>5</th>\n      <td>k403</td>\n      <td>Ramicane</td>\n      <td>Male</td>\n      <td>21</td>\n      <td>16</td>\n      <td>25</td>\n      <td>33.464577</td>\n      <td>1</td>\n    </tr>\n    <tr>\n      <th>6</th>\n      <td>k403</td>\n      <td>Ramicane</td>\n      <td>Male</td>\n      <td>21</td>\n      <td>16</td>\n      <td>30</td>\n      <td>31.099498</td>\n      <td>1</td>\n    </tr>\n    <tr>\n      <th>7</th>\n      <td>k403</td>\n      <td>Ramicane</td>\n      <td>Male</td>\n      <td>21</td>\n      <td>16</td>\n      <td>35</td>\n      <td>26.546993</td>\n      <td>1</td>\n    </tr>\n    <tr>\n      <th>8</th>\n      <td>k403</td>\n      <td>Ramicane</td>\n      <td>Male</td>\n      <td>21</td>\n      <td>16</td>\n      <td>40</td>\n      <td>24.365505</td>\n      <td>1</td>\n    </tr>\n    <tr>\n      <th>9</th>\n      <td>k403</td>\n      <td>Ramicane</td>\n      <td>Male</td>\n      <td>21</td>\n      <td>16</td>\n      <td>45</td>\n      <td>22.050126</td>\n      <td>1</td>\n    </tr>\n  </tbody>\n</table>\n</div>"
     },
     "metadata": {},
     "execution_count": 67
    }
   ],
   "source": [
    "## Combine the data into a single dataset\n",
    "MergedMiceData_DF = pd.merge(mouse_metadata,study_results, how=\"outer\", on=\"Mouse ID\")\n",
    "\n",
    "## Display the data table for preview\n",
    "MergedMiceData_DF.head(10)"
   ]
  },
  {
   "cell_type": "code",
   "execution_count": 68,
   "metadata": {},
   "outputs": [
    {
     "output_type": "stream",
     "name": "stdout",
     "text": [
      "        Age_months   Weight (g)    Timepoint  Tumor Volume (mm3)  \\\ncount  1893.000000  1893.000000  1893.000000         1893.000000   \nmean     12.814580    25.662441    19.572108           50.448381   \nstd       7.189592     3.921622    14.079460            8.894722   \nmin       1.000000    15.000000     0.000000           22.050126   \n25%       7.000000    25.000000     5.000000           45.000000   \n50%      13.000000    27.000000    20.000000           48.951474   \n75%      20.000000    29.000000    30.000000           56.292200   \nmax      24.000000    30.000000    45.000000           78.567014   \n\n       Metastatic Sites  \ncount       1893.000000  \nmean           1.021659  \nstd            1.137974  \nmin            0.000000  \n25%            0.000000  \n50%            1.000000  \n75%            2.000000  \nmax            4.000000  \n"
     ]
    },
    {
     "output_type": "execute_result",
     "data": {
      "text/plain": [
       "Mouse ID               object\n",
       "Drug Regimen           object\n",
       "Sex                    object\n",
       "Age_months              int64\n",
       "Weight (g)              int64\n",
       "Timepoint               int64\n",
       "Tumor Volume (mm3)    float64\n",
       "Metastatic Sites        int64\n",
       "dtype: object"
      ]
     },
     "metadata": {},
     "execution_count": 68
    }
   ],
   "source": [
    "## Get info summary on database thus far\n",
    "print(MergedMiceData_DF.describe())\n",
    "MergedMiceData_DF.dtypes"
   ]
  },
  {
   "cell_type": "code",
   "execution_count": 74,
   "metadata": {},
   "outputs": [
    {
     "output_type": "stream",
     "name": "stdout",
     "text": [
      "The number of unique Mouse IDs is: 249.\n\nMouse ID              1893\nDrug Regimen          1893\nSex                   1893\nAge_months            1893\nWeight (g)            1893\nTimepoint             1893\nTumor Volume (mm3)    1893\nMetastatic Sites      1893\ndtype: int64\n"
     ]
    },
    {
     "output_type": "execute_result",
     "data": {
      "text/plain": [
       "g989    13\n",
       "k862    10\n",
       "u327    10\n",
       "l733    10\n",
       "i334    10\n",
       "        ..\n",
       "h428     1\n",
       "l872     1\n",
       "b447     1\n",
       "x336     1\n",
       "v199     1\n",
       "Name: Mouse ID, Length: 249, dtype: int64"
      ]
     },
     "metadata": {},
     "execution_count": 74
    }
   ],
   "source": [
    "## Check info on Mouse ID's (ie counts, values, unique ID's)\n",
    "#MergedMiceData_DF['Mouse ID'].unique()\n",
    "UniqMouseIDs = MergedMiceData_DF['Mouse ID'].nunique()\n",
    "print(f'The number of unique Mouse IDs is: {UniqMouseIDs}.''\\n')\n",
    "## Checking the number of mice.\n",
    "print(MergedMiceData_DF.count())\n",
    "MergedMiceData_DF['Mouse ID'].value_counts()"
   ]
  },
  {
   "cell_type": "code",
   "execution_count": 75,
   "metadata": {},
   "outputs": [
    {
     "output_type": "execute_result",
     "data": {
      "text/plain": [
       "Mouse ID              1893\n",
       "Drug Regimen          1893\n",
       "Sex                   1893\n",
       "Age_months            1893\n",
       "Weight (g)            1893\n",
       "Timepoint             1893\n",
       "Tumor Volume (mm3)    1893\n",
       "Metastatic Sites      1893\n",
       "dtype: int64"
      ]
     },
     "metadata": {},
     "execution_count": 75
    }
   ],
   "source": [
    "CleanMiceData_DF = MergedMiceData_DF\n",
    "CleanMiceData_DF.head(5)\n",
    "CleanMiceData_DF.count()"
   ]
  },
  {
   "cell_type": "code",
   "execution_count": 97,
   "metadata": {},
   "outputs": [
    {
     "output_type": "stream",
     "name": "stdout",
     "text": [
      "The number of duplicates for data is: \nMouse ID     10\nTimepoint    10\ndtype: int64 \n\nHere are the row numbers, Mouse IDs, and Timpepoints values that are repeated:\n    Mouse ID  Timepoint\n908     g989          0\n909     g989          0\n910     g989          5\n911     g989          5\n912     g989         10\n913     g989         10\n914     g989         15\n915     g989         15\n916     g989         20\n917     g989         20\n\n"
     ]
    }
   ],
   "source": [
    "## Optional: Get all the data for the duplicate mouse ID. \n",
    "## Getting the duplicate mice by ID number that shows up for Mouse ID and Timepoint.\n",
    "dupMice = MergedMiceData_DF[MergedMiceData_DF.duplicated([\"Mouse ID\", \"Timepoint\"], keep=False)]\n",
    "\n",
    "dupNumber = dupMice[['Mouse ID', 'Timepoint']].count()\n",
    "print(f'The number of duplicates for data is: \\n{dupNumber} ')\n",
    "print()\n",
    "\n",
    "## Showing the duplicate mice by ID number that shows up for Mouse ID and Timepoint.\n",
    "print(\"Here are the row numbers, Mouse IDs, and Timpepoints values that are repeated:\")\n",
    "print(dupMice[['Mouse ID', 'Timepoint']])\n",
    "print()\n"
   ]
  },
  {
   "cell_type": "code",
   "execution_count": 102,
   "metadata": {},
   "outputs": [
    {
     "output_type": "stream",
     "name": "stdout",
     "text": [
      "Mouse ID              1883\nDrug Regimen          1883\nSex                   1883\nAge_months            1883\nWeight (g)            1883\nTimepoint             1883\nTumor Volume (mm3)    1883\nMetastatic Sites      1883\ndtype: int64\nThe number of unique Mouse IDs is: 249.\n\n"
     ]
    }
   ],
   "source": [
    "## Create a clean DataFrame by dropping the duplicate mouse by its ID.\n",
    "\n",
    "## Creating cleaned merged dataset by dropping duplicates above from DF.\n",
    "## df.drop_duplicates([column(s)], keep, inplace) - Returns DF w/dup rows from columns removed \n",
    "\n",
    "CleanMiceData_DF = CleanMiceData_DF.drop_duplicates([\"Mouse ID\", \"Timepoint\"], keep=False, inplace=False)\n",
    "\n",
    "## OR could also have used:\n",
    "#CleanMiceData_DF = MergedMiceData_DF.drop_duplicates(subset=[\"Mouse ID\",\"Timepoint\"])\n",
    "\n",
    "\n",
    "\n",
    "# Checking the number of mice in the clean DataFrame.\n",
    "print(CleanMiceData_DF.count())\n",
    "UniqMouseIDs = CleanMiceData_DF['Mouse ID'].nunique()\n",
    "print(f'The number of unique Mouse IDs is: {UniqMouseIDs}.''\\n')"
   ]
  },
  {
   "cell_type": "markdown",
   "metadata": {},
   "source": [
    "## Summary Statistics"
   ]
  },
  {
   "cell_type": "code",
   "execution_count": 104,
   "metadata": {},
   "outputs": [
    {
     "output_type": "execute_result",
     "data": {
      "text/plain": [
       "  Mouse ID Drug Regimen   Sex  Age_months  Weight (g)  Timepoint  \\\n",
       "0     k403     Ramicane  Male          21          16          0   \n",
       "1     k403     Ramicane  Male          21          16          5   \n",
       "2     k403     Ramicane  Male          21          16         10   \n",
       "\n",
       "   Tumor Volume (mm3)  Metastatic Sites  \n",
       "0           45.000000                 0  \n",
       "1           38.825898                 0  \n",
       "2           35.014271                 1  "
      ],
      "text/html": "<div>\n<style scoped>\n    .dataframe tbody tr th:only-of-type {\n        vertical-align: middle;\n    }\n\n    .dataframe tbody tr th {\n        vertical-align: top;\n    }\n\n    .dataframe thead th {\n        text-align: right;\n    }\n</style>\n<table border=\"1\" class=\"dataframe\">\n  <thead>\n    <tr style=\"text-align: right;\">\n      <th></th>\n      <th>Mouse ID</th>\n      <th>Drug Regimen</th>\n      <th>Sex</th>\n      <th>Age_months</th>\n      <th>Weight (g)</th>\n      <th>Timepoint</th>\n      <th>Tumor Volume (mm3)</th>\n      <th>Metastatic Sites</th>\n    </tr>\n  </thead>\n  <tbody>\n    <tr>\n      <th>0</th>\n      <td>k403</td>\n      <td>Ramicane</td>\n      <td>Male</td>\n      <td>21</td>\n      <td>16</td>\n      <td>0</td>\n      <td>45.000000</td>\n      <td>0</td>\n    </tr>\n    <tr>\n      <th>1</th>\n      <td>k403</td>\n      <td>Ramicane</td>\n      <td>Male</td>\n      <td>21</td>\n      <td>16</td>\n      <td>5</td>\n      <td>38.825898</td>\n      <td>0</td>\n    </tr>\n    <tr>\n      <th>2</th>\n      <td>k403</td>\n      <td>Ramicane</td>\n      <td>Male</td>\n      <td>21</td>\n      <td>16</td>\n      <td>10</td>\n      <td>35.014271</td>\n      <td>1</td>\n    </tr>\n  </tbody>\n</table>\n</div>"
     },
     "metadata": {},
     "execution_count": 104
    }
   ],
   "source": [
    "# Preview of dataframe for code reference\n",
    "CleanMiceData_DF.head(3)"
   ]
  },
  {
   "cell_type": "code",
   "execution_count": 116,
   "metadata": {},
   "outputs": [
    {
     "output_type": "stream",
     "name": "stdout",
     "text": [
      "Drug Regimen\nCapomulin    0.329346\nCeftamin     0.469821\nInfubinol    0.492236\nKetapril     0.603860\nNaftisol     0.596466\nPlacebo      0.581331\nPropriva     0.540135\nRamicane     0.320955\nStelasyn     0.573111\nZoniferol    0.516398\nName: Tumor Volume (mm3), dtype: float64\n"
     ]
    }
   ],
   "source": [
    "\n",
    "## Use groupby and summary statistical methods to calculate the following properties of each drug regimen: # mean, median, variance, standard deviation, and SEM of the tumor volume. \n",
    "\n",
    "## TestDF = CleanMiceData_DF.groupby(\"Drug Regimen\")\n",
    "## TestDF\n",
    "## TestDF['Tumor Volume (mm3)'].mean()\n",
    "## TestDF2 = CleanMiceData_DF.groupby(\"Drug Regimen\")['Tumor Volume (mm3)']\n",
    "## TestDF2\n",
    "## TestDF2.mean()\n",
    "## TestDF3 = CleanMiceData_DF.groupby(\"Drug Regimen\")['Tumor Volume (mm3)'].mean()\n",
    "## TestDF3\n",
    "## TestDF3 = \"....\" .mean(), .median(), .var(), .std(), .sem()\"\n",
    "\n",
    "DrugMean = CleanMiceData_DF.groupby(\"Drug Regimen\")['Tumor Volume (mm3)'].mean()\n",
    "DrugMedian = CleanMiceData_DF.groupby(\"Drug Regimen\")['Tumor Volume (mm3)'].median()\n",
    "DrugVari = CleanMiceData_DF.groupby(\"Drug Regimen\")['Tumor Volume (mm3)'].var()\n",
    "DrugStdDev = CleanMiceData_DF.groupby(\"Drug Regimen\")['Tumor Volume (mm3)'].std()\n",
    "DrugSEM = CleanMiceData_DF.groupby(\"Drug Regimen\")['Tumor Volume (mm3)'].sem()\n",
    "\n",
    "#print(DrugMean)\n",
    "#print(DrugMedian)\n",
    "#print(DrugVari)\n",
    "#print(DrugStdDev)\n",
    "#print(DrugSEM)"
   ]
  },
  {
   "cell_type": "code",
   "execution_count": 152,
   "metadata": {},
   "outputs": [
    {
     "output_type": "execute_result",
     "data": {
      "text/plain": [
       "<pandas.io.formats.style.Styler at 0x1f6152d07c0>"
      ],
      "text/html": "<style  type=\"text/css\" >\n</style><table id=\"T_8c954d3e_9037_11eb_bc81_c485085f7aca\" ><caption>TUMOR VOLUME VALUES</caption><thead>    <tr>        <th class=\"blank level0\" ></th>        <th class=\"col_heading level0 col0\" >Mean</th>        <th class=\"col_heading level0 col1\" >Median</th>        <th class=\"col_heading level0 col2\" >Variance</th>        <th class=\"col_heading level0 col3\" >Std Deviation</th>        <th class=\"col_heading level0 col4\" >SEM</th>    </tr>    <tr>        <th class=\"index_name level0\" >Drug Regimen</th>        <th class=\"blank\" ></th>        <th class=\"blank\" ></th>        <th class=\"blank\" ></th>        <th class=\"blank\" ></th>        <th class=\"blank\" ></th>    </tr></thead><tbody>\n                <tr>\n                        <th id=\"T_8c954d3e_9037_11eb_bc81_c485085f7acalevel0_row0\" class=\"row_heading level0 row0\" >Capomulin</th>\n                        <td id=\"T_8c954d3e_9037_11eb_bc81_c485085f7acarow0_col0\" class=\"data row0 col0\" >40.675741</td>\n                        <td id=\"T_8c954d3e_9037_11eb_bc81_c485085f7acarow0_col1\" class=\"data row0 col1\" >41.557809</td>\n                        <td id=\"T_8c954d3e_9037_11eb_bc81_c485085f7acarow0_col2\" class=\"data row0 col2\" >24.947764</td>\n                        <td id=\"T_8c954d3e_9037_11eb_bc81_c485085f7acarow0_col3\" class=\"data row0 col3\" >4.994774</td>\n                        <td id=\"T_8c954d3e_9037_11eb_bc81_c485085f7acarow0_col4\" class=\"data row0 col4\" >0.329346</td>\n            </tr>\n            <tr>\n                        <th id=\"T_8c954d3e_9037_11eb_bc81_c485085f7acalevel0_row1\" class=\"row_heading level0 row1\" >Ceftamin</th>\n                        <td id=\"T_8c954d3e_9037_11eb_bc81_c485085f7acarow1_col0\" class=\"data row1 col0\" >52.591172</td>\n                        <td id=\"T_8c954d3e_9037_11eb_bc81_c485085f7acarow1_col1\" class=\"data row1 col1\" >51.776157</td>\n                        <td id=\"T_8c954d3e_9037_11eb_bc81_c485085f7acarow1_col2\" class=\"data row1 col2\" >39.290177</td>\n                        <td id=\"T_8c954d3e_9037_11eb_bc81_c485085f7acarow1_col3\" class=\"data row1 col3\" >6.268188</td>\n                        <td id=\"T_8c954d3e_9037_11eb_bc81_c485085f7acarow1_col4\" class=\"data row1 col4\" >0.469821</td>\n            </tr>\n            <tr>\n                        <th id=\"T_8c954d3e_9037_11eb_bc81_c485085f7acalevel0_row2\" class=\"row_heading level0 row2\" >Infubinol</th>\n                        <td id=\"T_8c954d3e_9037_11eb_bc81_c485085f7acarow2_col0\" class=\"data row2 col0\" >52.884795</td>\n                        <td id=\"T_8c954d3e_9037_11eb_bc81_c485085f7acarow2_col1\" class=\"data row2 col1\" >51.820584</td>\n                        <td id=\"T_8c954d3e_9037_11eb_bc81_c485085f7acarow2_col2\" class=\"data row2 col2\" >43.128684</td>\n                        <td id=\"T_8c954d3e_9037_11eb_bc81_c485085f7acarow2_col3\" class=\"data row2 col3\" >6.567243</td>\n                        <td id=\"T_8c954d3e_9037_11eb_bc81_c485085f7acarow2_col4\" class=\"data row2 col4\" >0.492236</td>\n            </tr>\n            <tr>\n                        <th id=\"T_8c954d3e_9037_11eb_bc81_c485085f7acalevel0_row3\" class=\"row_heading level0 row3\" >Ketapril</th>\n                        <td id=\"T_8c954d3e_9037_11eb_bc81_c485085f7acarow3_col0\" class=\"data row3 col0\" >55.235638</td>\n                        <td id=\"T_8c954d3e_9037_11eb_bc81_c485085f7acarow3_col1\" class=\"data row3 col1\" >53.698743</td>\n                        <td id=\"T_8c954d3e_9037_11eb_bc81_c485085f7acarow3_col2\" class=\"data row3 col2\" >68.553577</td>\n                        <td id=\"T_8c954d3e_9037_11eb_bc81_c485085f7acarow3_col3\" class=\"data row3 col3\" >8.279709</td>\n                        <td id=\"T_8c954d3e_9037_11eb_bc81_c485085f7acarow3_col4\" class=\"data row3 col4\" >0.603860</td>\n            </tr>\n            <tr>\n                        <th id=\"T_8c954d3e_9037_11eb_bc81_c485085f7acalevel0_row4\" class=\"row_heading level0 row4\" >Naftisol</th>\n                        <td id=\"T_8c954d3e_9037_11eb_bc81_c485085f7acarow4_col0\" class=\"data row4 col0\" >54.331565</td>\n                        <td id=\"T_8c954d3e_9037_11eb_bc81_c485085f7acarow4_col1\" class=\"data row4 col1\" >52.509285</td>\n                        <td id=\"T_8c954d3e_9037_11eb_bc81_c485085f7acarow4_col2\" class=\"data row4 col2\" >66.173479</td>\n                        <td id=\"T_8c954d3e_9037_11eb_bc81_c485085f7acarow4_col3\" class=\"data row4 col3\" >8.134708</td>\n                        <td id=\"T_8c954d3e_9037_11eb_bc81_c485085f7acarow4_col4\" class=\"data row4 col4\" >0.596466</td>\n            </tr>\n            <tr>\n                        <th id=\"T_8c954d3e_9037_11eb_bc81_c485085f7acalevel0_row5\" class=\"row_heading level0 row5\" >Placebo</th>\n                        <td id=\"T_8c954d3e_9037_11eb_bc81_c485085f7acarow5_col0\" class=\"data row5 col0\" >54.033581</td>\n                        <td id=\"T_8c954d3e_9037_11eb_bc81_c485085f7acarow5_col1\" class=\"data row5 col1\" >52.288934</td>\n                        <td id=\"T_8c954d3e_9037_11eb_bc81_c485085f7acarow5_col2\" class=\"data row5 col2\" >61.168083</td>\n                        <td id=\"T_8c954d3e_9037_11eb_bc81_c485085f7acarow5_col3\" class=\"data row5 col3\" >7.821003</td>\n                        <td id=\"T_8c954d3e_9037_11eb_bc81_c485085f7acarow5_col4\" class=\"data row5 col4\" >0.581331</td>\n            </tr>\n            <tr>\n                        <th id=\"T_8c954d3e_9037_11eb_bc81_c485085f7acalevel0_row6\" class=\"row_heading level0 row6\" >Propriva</th>\n                        <td id=\"T_8c954d3e_9037_11eb_bc81_c485085f7acarow6_col0\" class=\"data row6 col0\" >52.458254</td>\n                        <td id=\"T_8c954d3e_9037_11eb_bc81_c485085f7acarow6_col1\" class=\"data row6 col1\" >50.854632</td>\n                        <td id=\"T_8c954d3e_9037_11eb_bc81_c485085f7acarow6_col2\" class=\"data row6 col2\" >44.053659</td>\n                        <td id=\"T_8c954d3e_9037_11eb_bc81_c485085f7acarow6_col3\" class=\"data row6 col3\" >6.637293</td>\n                        <td id=\"T_8c954d3e_9037_11eb_bc81_c485085f7acarow6_col4\" class=\"data row6 col4\" >0.540135</td>\n            </tr>\n            <tr>\n                        <th id=\"T_8c954d3e_9037_11eb_bc81_c485085f7acalevel0_row7\" class=\"row_heading level0 row7\" >Ramicane</th>\n                        <td id=\"T_8c954d3e_9037_11eb_bc81_c485085f7acarow7_col0\" class=\"data row7 col0\" >40.216745</td>\n                        <td id=\"T_8c954d3e_9037_11eb_bc81_c485085f7acarow7_col1\" class=\"data row7 col1\" >40.673236</td>\n                        <td id=\"T_8c954d3e_9037_11eb_bc81_c485085f7acarow7_col2\" class=\"data row7 col2\" >23.486704</td>\n                        <td id=\"T_8c954d3e_9037_11eb_bc81_c485085f7acarow7_col3\" class=\"data row7 col3\" >4.846308</td>\n                        <td id=\"T_8c954d3e_9037_11eb_bc81_c485085f7acarow7_col4\" class=\"data row7 col4\" >0.320955</td>\n            </tr>\n            <tr>\n                        <th id=\"T_8c954d3e_9037_11eb_bc81_c485085f7acalevel0_row8\" class=\"row_heading level0 row8\" >Stelasyn</th>\n                        <td id=\"T_8c954d3e_9037_11eb_bc81_c485085f7acarow8_col0\" class=\"data row8 col0\" >54.233149</td>\n                        <td id=\"T_8c954d3e_9037_11eb_bc81_c485085f7acarow8_col1\" class=\"data row8 col1\" >52.431737</td>\n                        <td id=\"T_8c954d3e_9037_11eb_bc81_c485085f7acarow8_col2\" class=\"data row8 col2\" >59.450562</td>\n                        <td id=\"T_8c954d3e_9037_11eb_bc81_c485085f7acarow8_col3\" class=\"data row8 col3\" >7.710419</td>\n                        <td id=\"T_8c954d3e_9037_11eb_bc81_c485085f7acarow8_col4\" class=\"data row8 col4\" >0.573111</td>\n            </tr>\n            <tr>\n                        <th id=\"T_8c954d3e_9037_11eb_bc81_c485085f7acalevel0_row9\" class=\"row_heading level0 row9\" >Zoniferol</th>\n                        <td id=\"T_8c954d3e_9037_11eb_bc81_c485085f7acarow9_col0\" class=\"data row9 col0\" >53.236507</td>\n                        <td id=\"T_8c954d3e_9037_11eb_bc81_c485085f7acarow9_col1\" class=\"data row9 col1\" >51.818479</td>\n                        <td id=\"T_8c954d3e_9037_11eb_bc81_c485085f7acarow9_col2\" class=\"data row9 col2\" >48.533355</td>\n                        <td id=\"T_8c954d3e_9037_11eb_bc81_c485085f7acarow9_col3\" class=\"data row9 col3\" >6.966589</td>\n                        <td id=\"T_8c954d3e_9037_11eb_bc81_c485085f7acarow9_col4\" class=\"data row9 col4\" >0.516398</td>\n            </tr>\n    </tbody></table>"
     },
     "metadata": {},
     "execution_count": 152
    }
   ],
   "source": [
    "## Generate a summary statistics table of mean, median, variance, standard deviation, and SEM of the tumor volume for each regimen. Assemble the resulting series into a single summary dataframe.\n",
    "\n",
    "SummaryDrugReg_DF = pd.DataFrame({\n",
    "    \"Mean\": DrugMean, \"Median\": DrugMedian, \"Variance\": DrugVari, \n",
    "    \"Std Deviation\": DrugStdDev, \"SEM\": DrugSEM})\n",
    "#SummaryDrugReg_DF\n",
    "\n",
    "SummaryDrugReg_DF.style.set_caption('TUMOR VOLUME VALUES')\n",
    "#SummaryDrugReg_DF.style.set_table_attributes('class=\"pure-table\"').set_caption('TUMOR VOLUMES')\n",
    "#SummaryDrugReg_DF.style.set_table_attributes(\"style='display:inline'\").set_caption('TUMOR VOLUMES')"
   ]
  },
  {
   "cell_type": "code",
   "execution_count": 164,
   "metadata": {},
   "outputs": [
    {
     "output_type": "execute_result",
     "data": {
      "text/plain": [
       "             Tumor Volume (mm3)                                          \n",
       "                           mean     median        var       std       sem\n",
       "Drug Regimen                                                             \n",
       "Capomulin             40.675741  41.557809  24.947764  4.994774  0.329346\n",
       "Ceftamin              52.591172  51.776157  39.290177  6.268188  0.469821\n",
       "Infubinol             52.884795  51.820584  43.128684  6.567243  0.492236\n",
       "Ketapril              55.235638  53.698743  68.553577  8.279709  0.603860\n",
       "Naftisol              54.331565  52.509285  66.173479  8.134708  0.596466\n",
       "Placebo               54.033581  52.288934  61.168083  7.821003  0.581331\n",
       "Propriva              52.458254  50.854632  44.053659  6.637293  0.540135\n",
       "Ramicane              40.216745  40.673236  23.486704  4.846308  0.320955\n",
       "Stelasyn              54.233149  52.431737  59.450562  7.710419  0.573111\n",
       "Zoniferol             53.236507  51.818479  48.533355  6.966589  0.516398"
      ],
      "text/html": "<div>\n<style scoped>\n    .dataframe tbody tr th:only-of-type {\n        vertical-align: middle;\n    }\n\n    .dataframe tbody tr th {\n        vertical-align: top;\n    }\n\n    .dataframe thead tr th {\n        text-align: left;\n    }\n\n    .dataframe thead tr:last-of-type th {\n        text-align: right;\n    }\n</style>\n<table border=\"1\" class=\"dataframe\">\n  <thead>\n    <tr>\n      <th></th>\n      <th colspan=\"5\" halign=\"left\">Tumor Volume (mm3)</th>\n    </tr>\n    <tr>\n      <th></th>\n      <th>mean</th>\n      <th>median</th>\n      <th>var</th>\n      <th>std</th>\n      <th>sem</th>\n    </tr>\n    <tr>\n      <th>Drug Regimen</th>\n      <th></th>\n      <th></th>\n      <th></th>\n      <th></th>\n      <th></th>\n    </tr>\n  </thead>\n  <tbody>\n    <tr>\n      <th>Capomulin</th>\n      <td>40.675741</td>\n      <td>41.557809</td>\n      <td>24.947764</td>\n      <td>4.994774</td>\n      <td>0.329346</td>\n    </tr>\n    <tr>\n      <th>Ceftamin</th>\n      <td>52.591172</td>\n      <td>51.776157</td>\n      <td>39.290177</td>\n      <td>6.268188</td>\n      <td>0.469821</td>\n    </tr>\n    <tr>\n      <th>Infubinol</th>\n      <td>52.884795</td>\n      <td>51.820584</td>\n      <td>43.128684</td>\n      <td>6.567243</td>\n      <td>0.492236</td>\n    </tr>\n    <tr>\n      <th>Ketapril</th>\n      <td>55.235638</td>\n      <td>53.698743</td>\n      <td>68.553577</td>\n      <td>8.279709</td>\n      <td>0.603860</td>\n    </tr>\n    <tr>\n      <th>Naftisol</th>\n      <td>54.331565</td>\n      <td>52.509285</td>\n      <td>66.173479</td>\n      <td>8.134708</td>\n      <td>0.596466</td>\n    </tr>\n    <tr>\n      <th>Placebo</th>\n      <td>54.033581</td>\n      <td>52.288934</td>\n      <td>61.168083</td>\n      <td>7.821003</td>\n      <td>0.581331</td>\n    </tr>\n    <tr>\n      <th>Propriva</th>\n      <td>52.458254</td>\n      <td>50.854632</td>\n      <td>44.053659</td>\n      <td>6.637293</td>\n      <td>0.540135</td>\n    </tr>\n    <tr>\n      <th>Ramicane</th>\n      <td>40.216745</td>\n      <td>40.673236</td>\n      <td>23.486704</td>\n      <td>4.846308</td>\n      <td>0.320955</td>\n    </tr>\n    <tr>\n      <th>Stelasyn</th>\n      <td>54.233149</td>\n      <td>52.431737</td>\n      <td>59.450562</td>\n      <td>7.710419</td>\n      <td>0.573111</td>\n    </tr>\n    <tr>\n      <th>Zoniferol</th>\n      <td>53.236507</td>\n      <td>51.818479</td>\n      <td>48.533355</td>\n      <td>6.966589</td>\n      <td>0.516398</td>\n    </tr>\n  </tbody>\n</table>\n</div>"
     },
     "metadata": {},
     "execution_count": 164
    }
   ],
   "source": [
    "# Generate a summary statistics table of mean, median, variance, standard deviation, and SEM of the tumor volume for each regimen. Using the aggregation method, produce the same summary statistics in a single line\n",
    "#  = df.groupby(['Drug GrpBy Col']).agg({('Tumor Vol Col'):[\"mean\", \"median\", \"var\", \"std\", \"sem\"]})\n",
    "\n",
    "AggSummary = CleanMiceData_DF.groupby([\"Drug Regimen\"]).agg({\n",
    "    \"Tumor Volume (mm3)\":[\"mean\", \"median\", \"var\", \"std\", \"sem\"]})\n",
    "\n",
    "AggSummary\n"
   ]
  },
  {
   "cell_type": "markdown",
   "metadata": {},
   "source": [
    "## Bar and Pie Charts"
   ]
  },
  {
   "cell_type": "code",
   "execution_count": 174,
   "metadata": {},
   "outputs": [
    {
     "output_type": "execute_result",
     "data": {
      "text/plain": [
       "array([0, 1, 2, 3, 4, 5, 6, 7, 8, 9])"
      ]
     },
     "metadata": {},
     "execution_count": 174
    }
   ],
   "source": [
    "## Generate a bar plot showing the total number of measurements taken on each drug regimen using pandas.\n",
    "## Groupby on Drug Regimen\n",
    "DrugRegimen = CleanMiceData_DF.groupby([\"Drug Regimen\"])\n",
    "DrugRegimen.head()\n",
    "\n",
    "## Number of mice used for each drug\n",
    "UniqMouseIDs = DrugRegimen['Mouse ID'].count()\n",
    "UniqMouseIDs\n",
    "\n",
    "MiceNumTested = \n",
    "\n",
    "X_AxisDrugs = np.arange(len(DrugRegimen))\n",
    "X_AxisDrugs"
   ]
  },
  {
   "cell_type": "code",
   "execution_count": 10,
   "metadata": {},
   "outputs": [],
   "source": [
    "# Generate a bar plot showing the total number of measurements taken on each drug regimen using pyplot.\n",
    "\n"
   ]
  },
  {
   "cell_type": "code",
   "execution_count": 11,
   "metadata": {},
   "outputs": [],
   "source": [
    "# Generate a pie plot showing the distribution of female versus male mice using pandas\n",
    "\n"
   ]
  },
  {
   "cell_type": "code",
   "execution_count": 12,
   "metadata": {},
   "outputs": [],
   "source": [
    "# Generate a pie plot showing the distribution of female versus male mice using pyplot\n",
    "\n"
   ]
  },
  {
   "cell_type": "markdown",
   "metadata": {},
   "source": [
    "## Quartiles, Outliers and Boxplots"
   ]
  },
  {
   "cell_type": "code",
   "execution_count": 13,
   "metadata": {},
   "outputs": [],
   "source": [
    "# Calculate the final tumor volume of each mouse across four of the treatment regimens:  \n",
    "# Capomulin, Ramicane, Infubinol, and Ceftamin\n",
    "\n",
    "# Start by getting the last (greatest) timepoint for each mouse\n",
    "\n",
    "\n",
    "# Merge this group df with the original dataframe to get the tumor volume at the last timepoint\n"
   ]
  },
  {
   "cell_type": "code",
   "execution_count": 14,
   "metadata": {},
   "outputs": [],
   "source": [
    "# Put treatments into a list for for loop (and later for plot labels)\n",
    "\n",
    "\n",
    "# Create empty list to fill with tumor vol data (for plotting)\n",
    "\n",
    "\n",
    "# Calculate the IQR and quantitatively determine if there are any potential outliers. \n",
    "\n",
    "    \n",
    "    # Locate the rows which contain mice on each drug and get the tumor volumes\n",
    "    \n",
    "    \n",
    "    # add subset \n",
    "    \n",
    "    \n",
    "    # Determine outliers using upper and lower bounds\n",
    "    "
   ]
  },
  {
   "cell_type": "code",
   "execution_count": 15,
   "metadata": {},
   "outputs": [],
   "source": [
    "# Generate a box plot of the final tumor volume of each mouse across four regimens of interest\n"
   ]
  },
  {
   "cell_type": "markdown",
   "metadata": {},
   "source": [
    "## Line and Scatter Plots"
   ]
  },
  {
   "cell_type": "code",
   "execution_count": 16,
   "metadata": {},
   "outputs": [],
   "source": [
    "# Generate a line plot of tumor volume vs. time point for a mouse treated with Capomulin\n"
   ]
  },
  {
   "cell_type": "code",
   "execution_count": 17,
   "metadata": {},
   "outputs": [],
   "source": [
    "# Generate a scatter plot of average tumor volume vs. mouse weight for the Capomulin regimen\n"
   ]
  },
  {
   "cell_type": "markdown",
   "metadata": {},
   "source": [
    "## Correlation and Regression"
   ]
  },
  {
   "cell_type": "code",
   "execution_count": 18,
   "metadata": {},
   "outputs": [],
   "source": [
    "# Calculate the correlation coefficient and linear regression model \n",
    "# for mouse weight and average tumor volume for the Capomulin regimen\n"
   ]
  },
  {
   "cell_type": "code",
   "execution_count": null,
   "metadata": {},
   "outputs": [],
   "source": []
  }
 ],
 "metadata": {
  "anaconda-cloud": {},
  "kernelspec": {
   "display_name": "Python 3",
   "language": "python",
   "name": "python3"
  },
  "language_info": {
   "codemirror_mode": {
    "name": "ipython",
    "version": 3
   },
   "file_extension": ".py",
   "mimetype": "text/x-python",
   "name": "python",
   "nbconvert_exporter": "python",
   "pygments_lexer": "ipython3",
   "version": "3.8.5"
  }
 },
 "nbformat": 4,
 "nbformat_minor": 4
}